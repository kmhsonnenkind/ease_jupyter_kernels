{
 "cells": [
 ],
 "metadata": {
  "ease_info": {
   "scriptengine": "@@scriptengine@@"
  },
  "kernelspec": {
   "display_name": "@@displayname@@",
   "language": "Python",
   "name": "@@name@@"
  }
 },
 "nbformat": 4,
 "nbformat_minor": 0
}