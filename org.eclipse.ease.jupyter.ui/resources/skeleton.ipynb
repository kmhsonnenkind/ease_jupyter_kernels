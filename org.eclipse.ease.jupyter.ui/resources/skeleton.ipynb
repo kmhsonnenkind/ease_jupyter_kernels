{
 "cells": [
 ],
 "metadata": {
  "ease_info": {
   "scriptengine": "@@scriptengine@@"
  },
  "kernelspec": {
   "display_name": "@@displayname@@",
   "language": "javascript",
   "name": "@@name@@"
  },
  "language_info": {
   "file_extension": ".js",
   "mimetype": "text/javascript",
   "name": "javascript",
   "version": "0.0.0"
  }
 },
 "nbformat": 4,
 "nbformat_minor": 0
}