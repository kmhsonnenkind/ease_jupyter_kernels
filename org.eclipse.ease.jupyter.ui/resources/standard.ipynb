{
 "cells": [
 ],
 "metadata": {
 "kernelspec": {
   "display_name": "'Choose directly in Jupyter'",
   "language": "ignore",
   "name": "ignore"
  },
  "language_info": {
   "file_extension": ".ignore",
   "mimetype": "text/ignore",
   "name": "ignore",
   "version": "0.0.0"
  }
 },
 "nbformat": 4,
 "nbformat_minor": 0
}